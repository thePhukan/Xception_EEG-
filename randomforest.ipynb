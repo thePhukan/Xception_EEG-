{
  "nbformat": 4,
  "nbformat_minor": 0,
  "metadata": {
    "colab": {
      "provenance": [],
      "gpuType": "T4",
      "mount_file_id": "1pUub7Z6xBj1V1LmKIl0zyFetzTwV0sj1",
      "authorship_tag": "ABX9TyMRlBy1SE3J4yVElHorXjGO",
      "include_colab_link": true
    },
    "kernelspec": {
      "name": "python3",
      "display_name": "Python 3"
    },
    "language_info": {
      "name": "python"
    },
    "accelerator": "GPU"
  },
  "cells": [
    {
      "cell_type": "markdown",
      "metadata": {
        "id": "view-in-github",
        "colab_type": "text"
      },
      "source": [
        "<a href=\"https://colab.research.google.com/github/thePhukan/Xception_EEG-/blob/parent/randomforest.ipynb\" target=\"_parent\"><img src=\"https://colab.research.google.com/assets/colab-badge.svg\" alt=\"Open In Colab\"/></a>"
      ]
    },
    {
      "cell_type": "code",
      "source": [
        "# -*- coding: utf-8 -*-\n",
        "\"\"\"\n",
        "Created on Sun Jan 24 18:41:11 2021\n",
        "\n",
        "@author: AtheP\n",
        "\"\"\"\n",
        "import tensorflow as tf\n",
        "\n",
        "\n",
        "from tensorflow import keras\n",
        "tf.random.set_seed(42)\n",
        "\n",
        "import numpy as np\n",
        "np.random.seed(42)\n",
        "\n",
        "import matplotlib.pyplot as plt\n",
        "\n",
        "import glob\n",
        "import PIL\n",
        "from PIL import Image\n",
        "import pandas as pd\n",
        "from skimage.io import imread, imshow\n",
        "import PIL\n",
        "from PIL import Image\n",
        "from sklearn import preprocessing\n",
        "import os\n",
        "from sklearn.ensemble import RandomForestClassifier\n",
        "from sklearn.model_selection import train_test_split, cross_val_score\n",
        "\n",
        "dataset = pd.read_csv(\"link to the emotions_JUMBO.csv file\")\n",
        "print(\"Any missing sample in training set:\",dataset.isnull().values.any())\n",
        "\n",
        "x = dataset.iloc[:,:-1].values\n",
        "\n",
        "y = dataset.iloc[:,4908].values\n",
        "\n",
        "x_train, x_test, y_train, y_test = train_test_split(x,y, test_size=0.1, random_state=42,stratify = y)\n",
        "\n",
        "\n"
      ],
      "metadata": {
        "colab": {
          "base_uri": "https://localhost:8080/"
        },
        "id": "qggi4L7ps09p",
        "outputId": "c42de885-bcfd-446c-a14b-defaca1eadd5"
      },
      "execution_count": null,
      "outputs": [
        {
          "output_type": "stream",
          "name": "stdout",
          "text": [
            "Any missing sample in training set: False\n"
          ]
        }
      ]
    },
    {
      "cell_type": "code",
      "execution_count": null,
      "metadata": {
        "id": "XHt9zTl1rp4t"
      },
      "outputs": [],
      "source": [
        "\n",
        "\n",
        "classifier = RandomForestClassifier(n_estimators = 1600, criterion = 'entropy', random_state = 42)\n",
        "y_score =classifier.fit(x_train, y_train)\n",
        "\n"
      ]
    },
    {
      "cell_type": "code",
      "source": [
        "\n",
        "# Predicting the Test set results\n",
        "y_pred = classifier.predict(x_test)\n",
        "pred_prob = classifier.predict_proba(x_test)\n",
        "# Making the Confusion Matrix\n",
        "print(pd.crosstab(y_test, y_pred, rownames=['Actual'], colnames=['Predicted']))\n",
        "\n",
        "from sklearn import metrics\n",
        "# Model Accuracy, how often is the classifier correct\n",
        "print(\"Accuracy:\",metrics.accuracy_score(y_test, y_pred))\n",
        "from sklearn.model_selection import cross_val_score\n",
        "\n",
        "from sklearn.metrics import precision_score, recall_score, f1_score\n",
        "print(\"Precission: \"+str(precision_score(y_true=y_test, y_pred=y_pred,average=\"weighted\")))\n",
        "print(\"Recall: \"+str(recall_score(y_true=y_test, y_pred=y_pred,average=\"weighted\")))\n",
        "print(\"F1: \"+str(f1_score(y_true=y_test, y_pred=y_pred,average=\"weighted\")))\n",
        "\n",
        "scores_cv = cross_val_score(classifier, x_train, y_train, cv=50)\n",
        "# print(scores_cv)\n",
        "print(\"Mean:\",scores_cv.mean())\n",
        "print(\"Standard deviation:\",scores_cv.std())\n",
        "print(\"cross vlaidation score: \"+str(scores_cv.mean())+\"+/-\"+str(scores_cv.std()))\n",
        "\n",
        "from sklearn.metrics import confusion_matrix\n",
        "cm = confusion_matrix(y_true = y_test, y_pred = y_pred)\n",
        "\n",
        "fig, ax = plt.subplots(figsize=(6, 6))\n",
        "ax.matshow(cm, cmap=plt.cm.Blues, alpha=0.3)\n",
        "\n",
        "for i in range(cm.shape[0]):\n",
        "    for j in range(cm.shape[1]):\n",
        "        ax.text(x=j, y=i, s=cm[i, j], va='center', ha='center')\n",
        "\n",
        "ax.title.set_text('RandomForest\\n')\n",
        "plt.xlabel('Predicted label')\n",
        "plt.ylabel('True label')\n",
        "\n",
        "plt.tight_layout()\n",
        "plt.show()\n"
      ],
      "metadata": {
        "id": "ibdyeDYYs-yh"
      },
      "execution_count": null,
      "outputs": []
    }
  ]
}
