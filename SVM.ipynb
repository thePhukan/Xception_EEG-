{
  "nbformat": 4,
  "nbformat_minor": 0,
  "metadata": {
    "colab": {
      "provenance": [],
      "authorship_tag": "ABX9TyPMOUzejiObtBEcV/7FVfEp",
      "include_colab_link": true
    },
    "kernelspec": {
      "name": "python3",
      "display_name": "Python 3"
    },
    "language_info": {
      "name": "python"
    }
  },
  "cells": [
    {
      "cell_type": "markdown",
      "metadata": {
        "id": "view-in-github",
        "colab_type": "text"
      },
      "source": [
        "<a href=\"https://colab.research.google.com/github/thePhukan/Xception_EEG-/blob/parent/SVM.ipynb\" target=\"_parent\"><img src=\"https://colab.research.google.com/assets/colab-badge.svg\" alt=\"Open In Colab\"/></a>"
      ]
    },
    {
      "cell_type": "code",
      "execution_count": null,
      "metadata": {
        "id": "6QkPgC4MExL3"
      },
      "outputs": [],
      "source": [
        "# -*- coding: utf-8 -*-\n",
        "\"\"\"\n",
        "Created on Sun Jan 24 18:41:11 2021\n",
        "\n",
        "@author: AtheP\n",
        "\"\"\"\n",
        "import tensorflow as tf\n",
        "\n",
        "\n",
        "from tensorflow import keras\n",
        "tf.random.set_seed(42)\n",
        "\n",
        "import numpy as np\n",
        "np.random.seed(42)\n",
        "\n",
        "import matplotlib.pyplot as plt\n",
        "\n",
        "import glob\n",
        "import PIL\n",
        "from PIL import Image\n",
        "import pandas as pd\n",
        "from skimage.io import imread, imshow\n",
        "import PIL\n",
        "from PIL import Image\n",
        "\n",
        "import os\n",
        "from sklearn.model_selection import train_test_split, cross_val_score\n",
        "\n",
        "dataset = pd.read_csv(\"/content/drive/MyDrive/M.Tech Project/DATASET/emotions_JUMBO.csv\")\n",
        "print(\"Any missing sample in training set:\",dataset.isnull().values.any())\n",
        "\n",
        "x = dataset.iloc[:,:-1].values\n",
        "\n",
        "y = dataset.iloc[:,4908].values\n",
        "\n",
        "x_train, x_test, y_train, y_test = train_test_split(x,y, test_size=0.1, random_state=42,stratify = y)\n"
      ]
    },
    {
      "cell_type": "code",
      "source": [
        "\n",
        "\n",
        "# Transforming non numerical labels into numerical labels\n",
        "from sklearn import preprocessing\n",
        "\n",
        "\n",
        "encoder = preprocessing.LabelEncoder()\n",
        "\n",
        "# encoding train labels\n",
        "encoder.fit(y_train)\n",
        "Y_train = encoder.transform(y_train)\n",
        "\n",
        "# encoding test labels\n",
        "encoder.fit(y_test)\n",
        "Y_test = encoder.transform(y_test)\n",
        "\n",
        "\n",
        "params_grid = [{'kernel': ['rbf'], 'gamma': [1e-3, 1e-4],\n",
        "                     'C': [1, 10, 100, 1000]},\n",
        "                    {'kernel': ['linear'], 'C': [1, 10, 100, 1000]}]\n",
        "\n",
        "\n",
        "from sklearn.svm import SVC\n",
        "from sklearn.metrics import confusion_matrix,classification_report\n",
        "from sklearn.model_selection import cross_val_score, GridSearchCV\n",
        "# Performing CV to tune parameters for best SVM fit\n",
        "svm_model = GridSearchCV(SVC(), params_grid, cv=5)\n",
        "svm_model.fit(x_train, Y_train)\n",
        "\n"
      ],
      "metadata": {
        "id": "eQJQ2f2VE6Vi"
      },
      "execution_count": null,
      "outputs": []
    },
    {
      "cell_type": "code",
      "source": [
        "\n",
        "# View the accuracy score\n",
        "print('Best score for training data:', svm_model.best_score_,\"\\n\")\n",
        "\n",
        "# View the best parameters for the model found using grid search\n",
        "print('Best C:',svm_model.best_estimator_.C,\"\\n\")\n",
        "print('Best Kernel:',svm_model.best_estimator_.kernel,\"\\n\")\n",
        "print('Best Gamma:',svm_model.best_estimator_.gamma,\"\\n\")\n",
        "\n",
        "final_model = svm_model.best_estimator_\n",
        "Y_pred = final_model.predict(x_test)\n",
        "Y_pred_label = list(encoder.inverse_transform(Y_pred))\n",
        "\n",
        "\n",
        "# Making the Confusion Matrix\n",
        "#print(pd.crosstab(Y_test_label, Y_pred_label, rownames=['Actual Activity'], colnames=['Predicted Activity']))\n",
        "print(confusion_matrix(y_test,Y_pred_label))\n",
        "print(\"\\n\")\n",
        "print(classification_report(y_test,Y_pred_label))\n",
        "\n",
        "print(\"Training set score for SVM: %f\" % final_model.score(x_train , Y_train))\n",
        "print(\"Testing  set score for SVM: %f\" % final_model.score(x_test  , Y_test ))\n",
        "from sklearn.metrics import precision_score, recall_score, f1_score\n",
        "print(\"Precission: \"+str(precision_score(y_true=y_test, y_pred=Y_pred,average=\"weighted\")))\n",
        "print(\"Recall: \"+str(recall_score(y_true=y_test, y_pred=Y_pred,average=\"weighted\")))\n",
        "print(\"F1: \"+str(f1_score(y_true=y_test, y_pred=Y_pred,average=\"weighted\")))\n",
        "scores_cv = cross_val_score(final_model, x_train, Y_train, cv=5)\n",
        "# print(scores_cv)\n",
        "print(\"Mean:\",scores_cv.mean())\n",
        "print(\"Standard deviation:\",scores_cv.std())\n",
        "print(\"cross vlaidation score: \"+str(scores_cv.mean())+\"+/-\"+str(scores_cv.std()))\n",
        "svm_model.score\n",
        "print(\"SVM Score:\",svm_model.score)"
      ],
      "metadata": {
        "id": "tsQfzjT0E_Fc"
      },
      "execution_count": null,
      "outputs": []
    }
  ]
}