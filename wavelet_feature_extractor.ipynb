{
  "cells": [
    {
      "cell_type": "markdown",
      "metadata": {
        "id": "view-in-github",
        "colab_type": "text"
      },
      "source": [
        "<a href=\"https://colab.research.google.com/github/thePhukan/Xception_EEG-/blob/parent/wavelet_feature_extractor.ipynb\" target=\"_parent\"><img src=\"https://colab.research.google.com/assets/colab-badge.svg\" alt=\"Open In Colab\"/></a>"
      ]
    },
    {
      "cell_type": "code",
      "execution_count": null,
      "metadata": {
        "colab": {
          "base_uri": "https://localhost:8080/"
        },
        "id": "52qGgYaO2BcU",
        "outputId": "c25e1d08-211a-4bfd-dbdb-7b857ceeaaee"
      },
      "outputs": [
        {
          "output_type": "stream",
          "name": "stdout",
          "text": [
            "Drive already mounted at /content/drive; to attempt to forcibly remount, call drive.mount(\"/content/drive\", force_remount=True).\n"
          ]
        }
      ],
      "source": [
        "from google.colab import drive\n",
        "drive.mount('/content/drive')"
      ]
    },
    {
      "cell_type": "code",
      "execution_count": null,
      "metadata": {
        "colab": {
          "base_uri": "https://localhost:8080/"
        },
        "id": "44Hyg0n81IlV",
        "outputId": "600cd930-9e89-4b66-8870-29e19d81760b"
      },
      "outputs": [
        {
          "output_type": "stream",
          "name": "stdout",
          "text": [
            "Colab only includes TensorFlow 2.x; %tensorflow_version has no effect.\n",
            "2.12.0\n"
          ]
        }
      ],
      "source": [
        "# Install TensorFlow\n",
        "try:\n",
        "  # %tensorflow_version only exists in Colab.\n",
        "  %tensorflow_version 2.x\n",
        "except Exception:\n",
        "  pass\n",
        "\n",
        "import tensorflow as tf\n",
        "print(tf.__version__)\n",
        "\n",
        "from tensorflow import keras\n",
        "tf.random.set_seed(42)\n",
        "\n",
        "import numpy as np\n",
        "np.random.seed(42)\n",
        "\n",
        "import matplotlib.pyplot as plt\n",
        "%matplotlib inline\n",
        "\n",
        "import glob\n",
        "import PIL\n",
        "from PIL import Image\n",
        "import pandas as pd\n",
        "from skimage.io import imread, imshow\n",
        "import PIL\n",
        "from PIL import Image\n",
        "from sklearn import preprocessing\n",
        "import os"
      ]
    },
    {
      "cell_type": "code",
      "execution_count": null,
      "metadata": {
        "id": "NQvBDInI1cC5"
      },
      "outputs": [],
      "source": [
        "imgFiles = sorted(glob.glob(\"Path to the directory where you have saved the generated spectrograms/*.jpg\"), key=os.path.getmtime)\n",
        "\n",
        "for items in imgFiles:\n",
        "  print(items)"
      ]
    },
    {
      "cell_type": "code",
      "execution_count": null,
      "metadata": {
        "id": "w3D_6xDY2tcz"
      },
      "outputs": [],
      "source": [
        "X = []\n",
        "\n",
        "for fName in imgFiles:\n",
        "\n",
        "  # Prepare the dataset and populate X and y\n",
        "  X_i =Image.open(fName) # tiny_FR/sunflower/1715303025_e7065327e2.jpg (500, 333)\n",
        "  X_i = X_i.resize((299,299)) # To make them approriate to Xception model when using Transfer Learning\n",
        "  X_i = np.array(X_i) / 255.0 # Normalize to range 0.0 to 1.0 (not stretching, only scaling)\n",
        "  # X_i = tf.image.per_image_standardization(X_i)\n",
        "\n",
        "  X.append(X_i)"
      ]
    },
    {
      "cell_type": "code",
      "source": [
        "import numpy as np\n",
        "import matplotlib.pyplot as plt\n",
        "from mpl_toolkits import mplot3d\n",
        "\n",
        "import pywt\n",
        "\n",
        "from csv import writer\n",
        "def append_list_as_row(file_name, list_of_elem):\n",
        "    # Open file in append mode\n",
        "    with open(file_name, 'a+', newline='') as write_obj:\n",
        "        # Create a writer object from csv module\n",
        "        csv_writer = writer(write_obj)\n",
        "        # Add contents of list as last row in the csv file\n",
        "        csv_writer.writerow(list_of_elem)\n",
        "#import pywt.data\n",
        "features = []\n",
        "flat_features = []\n",
        "check=[]\n",
        "coef=[]\n",
        "# Load image\n",
        "#original = pywt.data.camera()\n",
        "c=0\n",
        "for items in X:\n",
        "  f_col=[]\n",
        "# Wavelet transform of image, and plot approximation and details\n",
        "  titles = ['Approximation '+str(c), ' Horizontal detail '+str(c), 'Vertical detail '+str(c), 'Diagonal detail '+str(c)]\n",
        "  coeffs2 = pywt.wavedec2(items, 'bior1.3',level=2)\n",
        "  coef.append(coeffs2[0])\n",
        "\n",
        "\n",
        "temp=[]\n",
        "\n",
        "\n",
        "\n",
        "for i in range(0,len(coef)):\n",
        "    col=[]\n",
        "    arr=0\n",
        "    for g in coef[i][0]:\n",
        "\n",
        "        for h in g:\n",
        "            col.append(h)\n",
        "\n",
        "    arr=np.array(col)\n",
        "    arr=arr.reshape(1,-1)\n",
        "\n",
        "    temp.append(arr.flatten().tolist())\n",
        "    np.savetxt(\"Path to directory where you want to save the extracted features/wavelet_features.csv\", temp, delimiter=\",\")\n",
        "\n"
      ],
      "metadata": {
        "colab": {
          "base_uri": "https://localhost:8080/"
        },
        "id": "ikLg_4yoiRp0",
        "outputId": "ec7b76e6-faee-46e3-996f-3976d12e11c8"
      },
      "execution_count": null,
      "outputs": [
        {
          "output_type": "stream",
          "name": "stderr",
          "text": [
            "/usr/local/lib/python3.10/dist-packages/pywt/_multilevel.py:43: UserWarning: Level value of 2 is too high: all coefficients will experience boundary effects.\n",
            "  warnings.warn(\n"
          ]
        }
      ]
    }
  ],
  "metadata": {
    "accelerator": "GPU",
    "colab": {
      "provenance": [],
      "mount_file_id": "1yDlc_LcCao7-GazpFQnJTjqaNnQcdaW4",
      "authorship_tag": "ABX9TyO+CalP2AOWTuRBg6tM7fPP",
      "include_colab_link": true
    },
    "kernelspec": {
      "display_name": "Python 3",
      "name": "python3"
    }
  },
  "nbformat": 4,
  "nbformat_minor": 0
}